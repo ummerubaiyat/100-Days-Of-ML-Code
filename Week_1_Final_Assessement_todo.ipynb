{
  "cells": [
    {
      "cell_type": "markdown",
      "metadata": {
        "id": "view-in-github",
        "colab_type": "text"
      },
      "source": [
        "<a href=\"https://colab.research.google.com/github/ummerubaiyat/100-Days-Of-ML-Code/blob/master/Week_1_Final_Assessement_todo.ipynb\" target=\"_parent\"><img src=\"https://colab.research.google.com/assets/colab-badge.svg\" alt=\"Open In Colab\"/></a>"
      ]
    },
    {
      "cell_type": "markdown",
      "id": "faa4b7c2",
      "metadata": {
        "id": "faa4b7c2"
      },
      "source": [
        "# Supervised Machine Learning: Regression and Classification"
      ]
    },
    {
      "cell_type": "markdown",
      "id": "8b7e26f0",
      "metadata": {
        "id": "8b7e26f0"
      },
      "source": [
        "## Week 1 - Exercise / Assessment"
      ]
    },
    {
      "cell_type": "markdown",
      "id": "9721dd69",
      "metadata": {
        "id": "9721dd69"
      },
      "source": [
        "As you can recall, in week 1 of the supervised machine learning: Regression and Classification course, you learned about univariate linear regression (one variable linear regression). This included key concepts such as the linear regression hypothesis function, cost function, and gradient descent algorithm. \n",
        "\n",
        "This exercise focuses on testing your application skills of linear regression to real-world research problem. "
      ]
    },
    {
      "cell_type": "markdown",
      "id": "221c875e",
      "metadata": {
        "id": "221c875e"
      },
      "source": [
        "## Problem \n",
        "\n",
        "You are going to implement a univariate linear regression to estimate the cooling load and heating load of residential buildings.\n",
        "\n",
        "The dataset you're going to use comprises 768 samples and 8 features (independent variables). The features are relative compactness, surface area, wall area, roof area, overall height, orientation, glazing area, glazing area distribution. The two output variables (dependent variables) are heating load (HL) and cooling load (CL), of residential buildings.\n",
        "\n",
        "You can download the dataset from [here](http://archive.ics.uci.edu/ml/datasets/energy+efficiency)\n",
        "**Note:** _Click the **Data Folder** and then **ENB2012_data.xlsx** to download the dataset from the link above_\n",
        "\n",
        "Using a simple linear regression model, we can predict the heating and\n",
        "cooling loads for each of the aferomentioned features of a building. \n",
        "\n",
        "This dataset and work is based on a scientific article which provides\n",
        "some analysis on this data set: Feel free to read more about the study - [A. Tsanas, A. Xifara: 'Accurate quantitative estimation of energy performance of residential buildings using statistical machine learning tools', Energy and Buildings, Vol. 49, pp. 560-567,2012](https://www.sciencedirect.com/science/article/pii/S037877881200151X?casa_token=izQv4x7bLl4AAAAA:jg0jkGXmw5B-UHPLVbi4x_RQf6b8sAgVTD9TpcvFJ1AjdJ7E46bNKST3Nay4KuB9DPM9aeN4we4)\n",
        "\n",
        "For this problem, several tasks have been defined to be completed. \n",
        "\n",
        "Some of the functions of the Task have already been implemented while some are left for you to implement. \n",
        "\n",
        "**##TODO** Tag is used to indicate the functions or sections that you must implement.\n",
        "\n",
        "**##Completed** Tag is used to indicate the functions that have already been completed."
      ]
    },
    {
      "cell_type": "markdown",
      "id": "ad0d7128",
      "metadata": {
        "id": "ad0d7128"
      },
      "source": [
        "## Import Libraries"
      ]
    },
    {
      "cell_type": "code",
      "execution_count": 1,
      "id": "25bbe41b",
      "metadata": {
        "colab": {
          "base_uri": "https://localhost:8080/"
        },
        "id": "25bbe41b",
        "outputId": "be07395e-08c3-4548-b089-8fded7e59592"
      },
      "outputs": [
        {
          "output_type": "stream",
          "name": "stdout",
          "text": [
            "Looking in indexes: https://pypi.org/simple, https://us-python.pkg.dev/colab-wheels/public/simple/\n",
            "Requirement already satisfied: ipywidgets in /usr/local/lib/python3.9/dist-packages (7.7.1)\n",
            "Requirement already satisfied: widgetsnbextension~=3.6.0 in /usr/local/lib/python3.9/dist-packages (from ipywidgets) (3.6.3)\n",
            "Requirement already satisfied: ipython-genutils~=0.2.0 in /usr/local/lib/python3.9/dist-packages (from ipywidgets) (0.2.0)\n",
            "Requirement already satisfied: ipykernel>=4.5.1 in /usr/local/lib/python3.9/dist-packages (from ipywidgets) (5.3.4)\n",
            "Requirement already satisfied: traitlets>=4.3.1 in /usr/local/lib/python3.9/dist-packages (from ipywidgets) (5.7.1)\n",
            "Requirement already satisfied: ipython>=4.0.0 in /usr/local/lib/python3.9/dist-packages (from ipywidgets) (7.9.0)\n",
            "Requirement already satisfied: jupyterlab-widgets>=1.0.0 in /usr/local/lib/python3.9/dist-packages (from ipywidgets) (3.0.6)\n",
            "Requirement already satisfied: tornado>=4.2 in /usr/local/lib/python3.9/dist-packages (from ipykernel>=4.5.1->ipywidgets) (6.2)\n",
            "Requirement already satisfied: jupyter-client in /usr/local/lib/python3.9/dist-packages (from ipykernel>=4.5.1->ipywidgets) (6.1.12)\n",
            "Requirement already satisfied: pexpect in /usr/local/lib/python3.9/dist-packages (from ipython>=4.0.0->ipywidgets) (4.8.0)\n",
            "Requirement already satisfied: prompt-toolkit<2.1.0,>=2.0.0 in /usr/local/lib/python3.9/dist-packages (from ipython>=4.0.0->ipywidgets) (2.0.10)\n",
            "Requirement already satisfied: backcall in /usr/local/lib/python3.9/dist-packages (from ipython>=4.0.0->ipywidgets) (0.2.0)\n",
            "Collecting jedi>=0.10\n",
            "  Downloading jedi-0.18.2-py2.py3-none-any.whl (1.6 MB)\n",
            "\u001b[2K     \u001b[90m━━━━━━━━━━━━━━━━━━━━━━━━━━━━━━━━━━━━━━━━\u001b[0m \u001b[32m1.6/1.6 MB\u001b[0m \u001b[31m20.1 MB/s\u001b[0m eta \u001b[36m0:00:00\u001b[0m\n",
            "\u001b[?25hRequirement already satisfied: decorator in /usr/local/lib/python3.9/dist-packages (from ipython>=4.0.0->ipywidgets) (4.4.2)\n",
            "Requirement already satisfied: setuptools>=18.5 in /usr/local/lib/python3.9/dist-packages (from ipython>=4.0.0->ipywidgets) (67.6.0)\n",
            "Requirement already satisfied: pygments in /usr/local/lib/python3.9/dist-packages (from ipython>=4.0.0->ipywidgets) (2.14.0)\n",
            "Requirement already satisfied: pickleshare in /usr/local/lib/python3.9/dist-packages (from ipython>=4.0.0->ipywidgets) (0.7.5)\n",
            "Requirement already satisfied: notebook>=4.4.1 in /usr/local/lib/python3.9/dist-packages (from widgetsnbextension~=3.6.0->ipywidgets) (6.3.0)\n",
            "Requirement already satisfied: parso<0.9.0,>=0.8.0 in /usr/local/lib/python3.9/dist-packages (from jedi>=0.10->ipython>=4.0.0->ipywidgets) (0.8.3)\n",
            "Requirement already satisfied: nbformat in /usr/local/lib/python3.9/dist-packages (from notebook>=4.4.1->widgetsnbextension~=3.6.0->ipywidgets) (5.8.0)\n",
            "Requirement already satisfied: jinja2 in /usr/local/lib/python3.9/dist-packages (from notebook>=4.4.1->widgetsnbextension~=3.6.0->ipywidgets) (3.1.2)\n",
            "Requirement already satisfied: Send2Trash>=1.5.0 in /usr/local/lib/python3.9/dist-packages (from notebook>=4.4.1->widgetsnbextension~=3.6.0->ipywidgets) (1.8.0)\n",
            "Requirement already satisfied: argon2-cffi in /usr/local/lib/python3.9/dist-packages (from notebook>=4.4.1->widgetsnbextension~=3.6.0->ipywidgets) (21.3.0)\n",
            "Requirement already satisfied: jupyter-core>=4.6.1 in /usr/local/lib/python3.9/dist-packages (from notebook>=4.4.1->widgetsnbextension~=3.6.0->ipywidgets) (5.3.0)\n",
            "Requirement already satisfied: terminado>=0.8.3 in /usr/local/lib/python3.9/dist-packages (from notebook>=4.4.1->widgetsnbextension~=3.6.0->ipywidgets) (0.17.1)\n",
            "Requirement already satisfied: nbconvert in /usr/local/lib/python3.9/dist-packages (from notebook>=4.4.1->widgetsnbextension~=3.6.0->ipywidgets) (6.5.4)\n",
            "Requirement already satisfied: pyzmq>=17 in /usr/local/lib/python3.9/dist-packages (from notebook>=4.4.1->widgetsnbextension~=3.6.0->ipywidgets) (23.2.1)\n",
            "Requirement already satisfied: prometheus-client in /usr/local/lib/python3.9/dist-packages (from notebook>=4.4.1->widgetsnbextension~=3.6.0->ipywidgets) (0.16.0)\n",
            "Requirement already satisfied: python-dateutil>=2.1 in /usr/local/lib/python3.9/dist-packages (from jupyter-client->ipykernel>=4.5.1->ipywidgets) (2.8.2)\n",
            "Requirement already satisfied: six>=1.9.0 in /usr/local/lib/python3.9/dist-packages (from prompt-toolkit<2.1.0,>=2.0.0->ipython>=4.0.0->ipywidgets) (1.16.0)\n",
            "Requirement already satisfied: wcwidth in /usr/local/lib/python3.9/dist-packages (from prompt-toolkit<2.1.0,>=2.0.0->ipython>=4.0.0->ipywidgets) (0.2.6)\n",
            "Requirement already satisfied: ptyprocess>=0.5 in /usr/local/lib/python3.9/dist-packages (from pexpect->ipython>=4.0.0->ipywidgets) (0.7.0)\n",
            "Requirement already satisfied: platformdirs>=2.5 in /usr/local/lib/python3.9/dist-packages (from jupyter-core>=4.6.1->notebook>=4.4.1->widgetsnbextension~=3.6.0->ipywidgets) (3.1.1)\n",
            "Requirement already satisfied: argon2-cffi-bindings in /usr/local/lib/python3.9/dist-packages (from argon2-cffi->notebook>=4.4.1->widgetsnbextension~=3.6.0->ipywidgets) (21.2.0)\n",
            "Requirement already satisfied: MarkupSafe>=2.0 in /usr/local/lib/python3.9/dist-packages (from jinja2->notebook>=4.4.1->widgetsnbextension~=3.6.0->ipywidgets) (2.1.2)\n",
            "Requirement already satisfied: defusedxml in /usr/local/lib/python3.9/dist-packages (from nbconvert->notebook>=4.4.1->widgetsnbextension~=3.6.0->ipywidgets) (0.7.1)\n",
            "Requirement already satisfied: lxml in /usr/local/lib/python3.9/dist-packages (from nbconvert->notebook>=4.4.1->widgetsnbextension~=3.6.0->ipywidgets) (4.9.2)\n",
            "Requirement already satisfied: entrypoints>=0.2.2 in /usr/local/lib/python3.9/dist-packages (from nbconvert->notebook>=4.4.1->widgetsnbextension~=3.6.0->ipywidgets) (0.4)\n",
            "Requirement already satisfied: jupyterlab-pygments in /usr/local/lib/python3.9/dist-packages (from nbconvert->notebook>=4.4.1->widgetsnbextension~=3.6.0->ipywidgets) (0.2.2)\n",
            "Requirement already satisfied: nbclient>=0.5.0 in /usr/local/lib/python3.9/dist-packages (from nbconvert->notebook>=4.4.1->widgetsnbextension~=3.6.0->ipywidgets) (0.7.2)\n",
            "Requirement already satisfied: packaging in /usr/local/lib/python3.9/dist-packages (from nbconvert->notebook>=4.4.1->widgetsnbextension~=3.6.0->ipywidgets) (23.0)\n",
            "Requirement already satisfied: bleach in /usr/local/lib/python3.9/dist-packages (from nbconvert->notebook>=4.4.1->widgetsnbextension~=3.6.0->ipywidgets) (6.0.0)\n",
            "Requirement already satisfied: mistune<2,>=0.8.1 in /usr/local/lib/python3.9/dist-packages (from nbconvert->notebook>=4.4.1->widgetsnbextension~=3.6.0->ipywidgets) (0.8.4)\n",
            "Requirement already satisfied: tinycss2 in /usr/local/lib/python3.9/dist-packages (from nbconvert->notebook>=4.4.1->widgetsnbextension~=3.6.0->ipywidgets) (1.2.1)\n",
            "Requirement already satisfied: pandocfilters>=1.4.1 in /usr/local/lib/python3.9/dist-packages (from nbconvert->notebook>=4.4.1->widgetsnbextension~=3.6.0->ipywidgets) (1.5.0)\n",
            "Requirement already satisfied: beautifulsoup4 in /usr/local/lib/python3.9/dist-packages (from nbconvert->notebook>=4.4.1->widgetsnbextension~=3.6.0->ipywidgets) (4.11.2)\n",
            "Requirement already satisfied: jsonschema>=2.6 in /usr/local/lib/python3.9/dist-packages (from nbformat->notebook>=4.4.1->widgetsnbextension~=3.6.0->ipywidgets) (4.3.3)\n",
            "Requirement already satisfied: fastjsonschema in /usr/local/lib/python3.9/dist-packages (from nbformat->notebook>=4.4.1->widgetsnbextension~=3.6.0->ipywidgets) (2.16.3)\n",
            "Requirement already satisfied: attrs>=17.4.0 in /usr/local/lib/python3.9/dist-packages (from jsonschema>=2.6->nbformat->notebook>=4.4.1->widgetsnbextension~=3.6.0->ipywidgets) (22.2.0)\n",
            "Requirement already satisfied: pyrsistent!=0.17.0,!=0.17.1,!=0.17.2,>=0.14.0 in /usr/local/lib/python3.9/dist-packages (from jsonschema>=2.6->nbformat->notebook>=4.4.1->widgetsnbextension~=3.6.0->ipywidgets) (0.19.3)\n",
            "Requirement already satisfied: cffi>=1.0.1 in /usr/local/lib/python3.9/dist-packages (from argon2-cffi-bindings->argon2-cffi->notebook>=4.4.1->widgetsnbextension~=3.6.0->ipywidgets) (1.15.1)\n",
            "Requirement already satisfied: soupsieve>1.2 in /usr/local/lib/python3.9/dist-packages (from beautifulsoup4->nbconvert->notebook>=4.4.1->widgetsnbextension~=3.6.0->ipywidgets) (2.4)\n",
            "Requirement already satisfied: webencodings in /usr/local/lib/python3.9/dist-packages (from bleach->nbconvert->notebook>=4.4.1->widgetsnbextension~=3.6.0->ipywidgets) (0.5.1)\n",
            "Requirement already satisfied: pycparser in /usr/local/lib/python3.9/dist-packages (from cffi>=1.0.1->argon2-cffi-bindings->argon2-cffi->notebook>=4.4.1->widgetsnbextension~=3.6.0->ipywidgets) (2.21)\n",
            "Installing collected packages: jedi\n",
            "Successfully installed jedi-0.18.2\n"
          ]
        }
      ],
      "source": [
        "!pip install ipywidgets"
      ]
    },
    {
      "cell_type": "code",
      "source": [
        "!pip install ipympl"
      ],
      "metadata": {
        "colab": {
          "base_uri": "https://localhost:8080/"
        },
        "id": "quT-Q8uTX2mF",
        "outputId": "ed5767c8-ea27-488a-f817-c5464f81ba74"
      },
      "id": "quT-Q8uTX2mF",
      "execution_count": 5,
      "outputs": [
        {
          "output_type": "stream",
          "name": "stdout",
          "text": [
            "Looking in indexes: https://pypi.org/simple, https://us-python.pkg.dev/colab-wheels/public/simple/\n",
            "Collecting ipympl\n",
            "  Downloading ipympl-0.9.3-py2.py3-none-any.whl (511 kB)\n",
            "\u001b[2K     \u001b[90m━━━━━━━━━━━━━━━━━━━━━━━━━━━━━━━━━━━━━━\u001b[0m \u001b[32m511.6/511.6 KB\u001b[0m \u001b[31m12.5 MB/s\u001b[0m eta \u001b[36m0:00:00\u001b[0m\n",
            "\u001b[?25hRequirement already satisfied: matplotlib<4,>=3.4.0 in /usr/local/lib/python3.9/dist-packages (from ipympl) (3.7.1)\n",
            "Requirement already satisfied: ipython-genutils in /usr/local/lib/python3.9/dist-packages (from ipympl) (0.2.0)\n",
            "Requirement already satisfied: traitlets<6 in /usr/local/lib/python3.9/dist-packages (from ipympl) (5.7.1)\n",
            "Requirement already satisfied: ipython<9 in /usr/local/lib/python3.9/dist-packages (from ipympl) (7.9.0)\n",
            "Requirement already satisfied: numpy in /usr/local/lib/python3.9/dist-packages (from ipympl) (1.22.4)\n",
            "Requirement already satisfied: ipywidgets<9,>=7.6.0 in /usr/local/lib/python3.9/dist-packages (from ipympl) (7.7.1)\n",
            "Requirement already satisfied: pillow in /usr/local/lib/python3.9/dist-packages (from ipympl) (8.4.0)\n",
            "Requirement already satisfied: prompt-toolkit<2.1.0,>=2.0.0 in /usr/local/lib/python3.9/dist-packages (from ipython<9->ipympl) (2.0.10)\n",
            "Requirement already satisfied: backcall in /usr/local/lib/python3.9/dist-packages (from ipython<9->ipympl) (0.2.0)\n",
            "Requirement already satisfied: setuptools>=18.5 in /usr/local/lib/python3.9/dist-packages (from ipython<9->ipympl) (67.6.0)\n",
            "Requirement already satisfied: decorator in /usr/local/lib/python3.9/dist-packages (from ipython<9->ipympl) (4.4.2)\n",
            "Requirement already satisfied: pygments in /usr/local/lib/python3.9/dist-packages (from ipython<9->ipympl) (2.14.0)\n",
            "Requirement already satisfied: pickleshare in /usr/local/lib/python3.9/dist-packages (from ipython<9->ipympl) (0.7.5)\n",
            "Requirement already satisfied: jedi>=0.10 in /usr/local/lib/python3.9/dist-packages (from ipython<9->ipympl) (0.18.2)\n",
            "Requirement already satisfied: pexpect in /usr/local/lib/python3.9/dist-packages (from ipython<9->ipympl) (4.8.0)\n",
            "Requirement already satisfied: widgetsnbextension~=3.6.0 in /usr/local/lib/python3.9/dist-packages (from ipywidgets<9,>=7.6.0->ipympl) (3.6.3)\n",
            "Requirement already satisfied: jupyterlab-widgets>=1.0.0 in /usr/local/lib/python3.9/dist-packages (from ipywidgets<9,>=7.6.0->ipympl) (3.0.6)\n",
            "Requirement already satisfied: ipykernel>=4.5.1 in /usr/local/lib/python3.9/dist-packages (from ipywidgets<9,>=7.6.0->ipympl) (5.3.4)\n",
            "Requirement already satisfied: pyparsing>=2.3.1 in /usr/local/lib/python3.9/dist-packages (from matplotlib<4,>=3.4.0->ipympl) (3.0.9)\n",
            "Requirement already satisfied: kiwisolver>=1.0.1 in /usr/local/lib/python3.9/dist-packages (from matplotlib<4,>=3.4.0->ipympl) (1.4.4)\n",
            "Requirement already satisfied: importlib-resources>=3.2.0 in /usr/local/lib/python3.9/dist-packages (from matplotlib<4,>=3.4.0->ipympl) (5.12.0)\n",
            "Requirement already satisfied: fonttools>=4.22.0 in /usr/local/lib/python3.9/dist-packages (from matplotlib<4,>=3.4.0->ipympl) (4.39.2)\n",
            "Requirement already satisfied: contourpy>=1.0.1 in /usr/local/lib/python3.9/dist-packages (from matplotlib<4,>=3.4.0->ipympl) (1.0.7)\n",
            "Requirement already satisfied: packaging>=20.0 in /usr/local/lib/python3.9/dist-packages (from matplotlib<4,>=3.4.0->ipympl) (23.0)\n",
            "Requirement already satisfied: cycler>=0.10 in /usr/local/lib/python3.9/dist-packages (from matplotlib<4,>=3.4.0->ipympl) (0.11.0)\n",
            "Requirement already satisfied: python-dateutil>=2.7 in /usr/local/lib/python3.9/dist-packages (from matplotlib<4,>=3.4.0->ipympl) (2.8.2)\n",
            "Requirement already satisfied: zipp>=3.1.0 in /usr/local/lib/python3.9/dist-packages (from importlib-resources>=3.2.0->matplotlib<4,>=3.4.0->ipympl) (3.15.0)\n",
            "Requirement already satisfied: jupyter-client in /usr/local/lib/python3.9/dist-packages (from ipykernel>=4.5.1->ipywidgets<9,>=7.6.0->ipympl) (6.1.12)\n",
            "Requirement already satisfied: tornado>=4.2 in /usr/local/lib/python3.9/dist-packages (from ipykernel>=4.5.1->ipywidgets<9,>=7.6.0->ipympl) (6.2)\n",
            "Requirement already satisfied: parso<0.9.0,>=0.8.0 in /usr/local/lib/python3.9/dist-packages (from jedi>=0.10->ipython<9->ipympl) (0.8.3)\n",
            "Requirement already satisfied: six>=1.9.0 in /usr/local/lib/python3.9/dist-packages (from prompt-toolkit<2.1.0,>=2.0.0->ipython<9->ipympl) (1.16.0)\n",
            "Requirement already satisfied: wcwidth in /usr/local/lib/python3.9/dist-packages (from prompt-toolkit<2.1.0,>=2.0.0->ipython<9->ipympl) (0.2.6)\n",
            "Requirement already satisfied: notebook>=4.4.1 in /usr/local/lib/python3.9/dist-packages (from widgetsnbextension~=3.6.0->ipywidgets<9,>=7.6.0->ipympl) (6.3.0)\n",
            "Requirement already satisfied: ptyprocess>=0.5 in /usr/local/lib/python3.9/dist-packages (from pexpect->ipython<9->ipympl) (0.7.0)\n",
            "Requirement already satisfied: pyzmq>=17 in /usr/local/lib/python3.9/dist-packages (from notebook>=4.4.1->widgetsnbextension~=3.6.0->ipywidgets<9,>=7.6.0->ipympl) (23.2.1)\n",
            "Requirement already satisfied: Send2Trash>=1.5.0 in /usr/local/lib/python3.9/dist-packages (from notebook>=4.4.1->widgetsnbextension~=3.6.0->ipywidgets<9,>=7.6.0->ipympl) (1.8.0)\n",
            "Requirement already satisfied: terminado>=0.8.3 in /usr/local/lib/python3.9/dist-packages (from notebook>=4.4.1->widgetsnbextension~=3.6.0->ipywidgets<9,>=7.6.0->ipympl) (0.17.1)\n",
            "Requirement already satisfied: nbconvert in /usr/local/lib/python3.9/dist-packages (from notebook>=4.4.1->widgetsnbextension~=3.6.0->ipywidgets<9,>=7.6.0->ipympl) (6.5.4)\n",
            "Requirement already satisfied: jinja2 in /usr/local/lib/python3.9/dist-packages (from notebook>=4.4.1->widgetsnbextension~=3.6.0->ipywidgets<9,>=7.6.0->ipympl) (3.1.2)\n",
            "Requirement already satisfied: prometheus-client in /usr/local/lib/python3.9/dist-packages (from notebook>=4.4.1->widgetsnbextension~=3.6.0->ipywidgets<9,>=7.6.0->ipympl) (0.16.0)\n",
            "Requirement already satisfied: jupyter-core>=4.6.1 in /usr/local/lib/python3.9/dist-packages (from notebook>=4.4.1->widgetsnbextension~=3.6.0->ipywidgets<9,>=7.6.0->ipympl) (5.3.0)\n",
            "Requirement already satisfied: nbformat in /usr/local/lib/python3.9/dist-packages (from notebook>=4.4.1->widgetsnbextension~=3.6.0->ipywidgets<9,>=7.6.0->ipympl) (5.8.0)\n",
            "Requirement already satisfied: argon2-cffi in /usr/local/lib/python3.9/dist-packages (from notebook>=4.4.1->widgetsnbextension~=3.6.0->ipywidgets<9,>=7.6.0->ipympl) (21.3.0)\n",
            "Requirement already satisfied: platformdirs>=2.5 in /usr/local/lib/python3.9/dist-packages (from jupyter-core>=4.6.1->notebook>=4.4.1->widgetsnbextension~=3.6.0->ipywidgets<9,>=7.6.0->ipympl) (3.1.1)\n",
            "Requirement already satisfied: argon2-cffi-bindings in /usr/local/lib/python3.9/dist-packages (from argon2-cffi->notebook>=4.4.1->widgetsnbextension~=3.6.0->ipywidgets<9,>=7.6.0->ipympl) (21.2.0)\n",
            "Requirement already satisfied: MarkupSafe>=2.0 in /usr/local/lib/python3.9/dist-packages (from jinja2->notebook>=4.4.1->widgetsnbextension~=3.6.0->ipywidgets<9,>=7.6.0->ipympl) (2.1.2)\n",
            "Requirement already satisfied: beautifulsoup4 in /usr/local/lib/python3.9/dist-packages (from nbconvert->notebook>=4.4.1->widgetsnbextension~=3.6.0->ipywidgets<9,>=7.6.0->ipympl) (4.11.2)\n",
            "Requirement already satisfied: tinycss2 in /usr/local/lib/python3.9/dist-packages (from nbconvert->notebook>=4.4.1->widgetsnbextension~=3.6.0->ipywidgets<9,>=7.6.0->ipympl) (1.2.1)\n",
            "Requirement already satisfied: jupyterlab-pygments in /usr/local/lib/python3.9/dist-packages (from nbconvert->notebook>=4.4.1->widgetsnbextension~=3.6.0->ipywidgets<9,>=7.6.0->ipympl) (0.2.2)\n",
            "Requirement already satisfied: nbclient>=0.5.0 in /usr/local/lib/python3.9/dist-packages (from nbconvert->notebook>=4.4.1->widgetsnbextension~=3.6.0->ipywidgets<9,>=7.6.0->ipympl) (0.7.2)\n",
            "Requirement already satisfied: lxml in /usr/local/lib/python3.9/dist-packages (from nbconvert->notebook>=4.4.1->widgetsnbextension~=3.6.0->ipywidgets<9,>=7.6.0->ipympl) (4.9.2)\n",
            "Requirement already satisfied: entrypoints>=0.2.2 in /usr/local/lib/python3.9/dist-packages (from nbconvert->notebook>=4.4.1->widgetsnbextension~=3.6.0->ipywidgets<9,>=7.6.0->ipympl) (0.4)\n",
            "Requirement already satisfied: bleach in /usr/local/lib/python3.9/dist-packages (from nbconvert->notebook>=4.4.1->widgetsnbextension~=3.6.0->ipywidgets<9,>=7.6.0->ipympl) (6.0.0)\n",
            "Requirement already satisfied: pandocfilters>=1.4.1 in /usr/local/lib/python3.9/dist-packages (from nbconvert->notebook>=4.4.1->widgetsnbextension~=3.6.0->ipywidgets<9,>=7.6.0->ipympl) (1.5.0)\n",
            "Requirement already satisfied: mistune<2,>=0.8.1 in /usr/local/lib/python3.9/dist-packages (from nbconvert->notebook>=4.4.1->widgetsnbextension~=3.6.0->ipywidgets<9,>=7.6.0->ipympl) (0.8.4)\n",
            "Requirement already satisfied: defusedxml in /usr/local/lib/python3.9/dist-packages (from nbconvert->notebook>=4.4.1->widgetsnbextension~=3.6.0->ipywidgets<9,>=7.6.0->ipympl) (0.7.1)\n",
            "Requirement already satisfied: jsonschema>=2.6 in /usr/local/lib/python3.9/dist-packages (from nbformat->notebook>=4.4.1->widgetsnbextension~=3.6.0->ipywidgets<9,>=7.6.0->ipympl) (4.3.3)\n",
            "Requirement already satisfied: fastjsonschema in /usr/local/lib/python3.9/dist-packages (from nbformat->notebook>=4.4.1->widgetsnbextension~=3.6.0->ipywidgets<9,>=7.6.0->ipympl) (2.16.3)\n",
            "Requirement already satisfied: pyrsistent!=0.17.0,!=0.17.1,!=0.17.2,>=0.14.0 in /usr/local/lib/python3.9/dist-packages (from jsonschema>=2.6->nbformat->notebook>=4.4.1->widgetsnbextension~=3.6.0->ipywidgets<9,>=7.6.0->ipympl) (0.19.3)\n",
            "Requirement already satisfied: attrs>=17.4.0 in /usr/local/lib/python3.9/dist-packages (from jsonschema>=2.6->nbformat->notebook>=4.4.1->widgetsnbextension~=3.6.0->ipywidgets<9,>=7.6.0->ipympl) (22.2.0)\n",
            "Requirement already satisfied: cffi>=1.0.1 in /usr/local/lib/python3.9/dist-packages (from argon2-cffi-bindings->argon2-cffi->notebook>=4.4.1->widgetsnbextension~=3.6.0->ipywidgets<9,>=7.6.0->ipympl) (1.15.1)\n",
            "Requirement already satisfied: soupsieve>1.2 in /usr/local/lib/python3.9/dist-packages (from beautifulsoup4->nbconvert->notebook>=4.4.1->widgetsnbextension~=3.6.0->ipywidgets<9,>=7.6.0->ipympl) (2.4)\n",
            "Requirement already satisfied: webencodings in /usr/local/lib/python3.9/dist-packages (from bleach->nbconvert->notebook>=4.4.1->widgetsnbextension~=3.6.0->ipywidgets<9,>=7.6.0->ipympl) (0.5.1)\n",
            "Requirement already satisfied: pycparser in /usr/local/lib/python3.9/dist-packages (from cffi>=1.0.1->argon2-cffi-bindings->argon2-cffi->notebook>=4.4.1->widgetsnbextension~=3.6.0->ipywidgets<9,>=7.6.0->ipympl) (2.21)\n",
            "Installing collected packages: ipympl\n",
            "Successfully installed ipympl-0.9.3\n"
          ]
        }
      ]
    },
    {
      "cell_type": "markdown",
      "source": [],
      "metadata": {
        "id": "is94_6vsX2QU"
      },
      "id": "is94_6vsX2QU"
    },
    {
      "cell_type": "code",
      "execution_count": 6,
      "id": "6e01d1dc",
      "metadata": {
        "id": "6e01d1dc"
      },
      "outputs": [],
      "source": [
        "import pandas as pd\n",
        "import numpy as np\n",
        "\n",
        "import matplotlib.pyplot as plt\n",
        "import ipywidgets as widgets\n",
        "\n",
        "import warnings\n",
        "warnings.filterwarnings(\"ignore\")\n",
        "\n",
        "%matplotlib widget"
      ]
    },
    {
      "cell_type": "markdown",
      "id": "fcd4c2c9",
      "metadata": {
        "id": "fcd4c2c9"
      },
      "source": [
        "In case you face the error _‘ModuleNotFoundError: No module named ‘ipympl’_ , Read the article https://paddyharrison.medium.com/matplotlib-display-problems-in-jupyter-dfd0bb189d2b"
      ]
    },
    {
      "cell_type": "markdown",
      "id": "b3158e5f",
      "metadata": {
        "id": "b3158e5f"
      },
      "source": [
        "## Task 1: Read  Dataset into Notebook\n",
        "\n",
        "Instructions: Write a function that reads the *ENB2012_data.xlsx* dataset into jupyter notebook\n",
        "\n",
        "Check this [link](https://pandas.pydata.org/docs/reference/api/pandas.read_csv.html) to learn how to read file using pandas \n",
        "\n",
        "Note: X1, X2,.....,X8 represent the independent variables in the dataset. Y1 and Y2 represent the dependent variables"
      ]
    },
    {
      "cell_type": "code",
      "execution_count": 7,
      "id": "bd45b693",
      "metadata": {
        "id": "bd45b693"
      },
      "outputs": [],
      "source": [
        "#Imports\n",
        "import pandas as pd"
      ]
    },
    {
      "cell_type": "code",
      "execution_count": 9,
      "id": "70379bfe",
      "metadata": {
        "colab": {
          "base_uri": "https://localhost:8080/",
          "height": 206
        },
        "id": "70379bfe",
        "outputId": "5dac15cf-541e-4598-ac5b-43effe58c648"
      },
      "outputs": [
        {
          "output_type": "execute_result",
          "data": {
            "text/plain": [
              "     X1     X2     X3      X4   X5  X6   X7  X8     Y1     Y2\n",
              "0  0.98  514.5  294.0  110.25  7.0   2  0.0   0  15.55  21.33\n",
              "1  0.98  514.5  294.0  110.25  7.0   3  0.0   0  15.55  21.33\n",
              "2  0.98  514.5  294.0  110.25  7.0   4  0.0   0  15.55  21.33\n",
              "3  0.98  514.5  294.0  110.25  7.0   5  0.0   0  15.55  21.33\n",
              "4  0.90  563.5  318.5  122.50  7.0   2  0.0   0  20.84  28.28"
            ],
            "text/html": [
              "\n",
              "  <div id=\"df-36b5305f-3973-4ff1-a1be-a88b21403603\">\n",
              "    <div class=\"colab-df-container\">\n",
              "      <div>\n",
              "<style scoped>\n",
              "    .dataframe tbody tr th:only-of-type {\n",
              "        vertical-align: middle;\n",
              "    }\n",
              "\n",
              "    .dataframe tbody tr th {\n",
              "        vertical-align: top;\n",
              "    }\n",
              "\n",
              "    .dataframe thead th {\n",
              "        text-align: right;\n",
              "    }\n",
              "</style>\n",
              "<table border=\"1\" class=\"dataframe\">\n",
              "  <thead>\n",
              "    <tr style=\"text-align: right;\">\n",
              "      <th></th>\n",
              "      <th>X1</th>\n",
              "      <th>X2</th>\n",
              "      <th>X3</th>\n",
              "      <th>X4</th>\n",
              "      <th>X5</th>\n",
              "      <th>X6</th>\n",
              "      <th>X7</th>\n",
              "      <th>X8</th>\n",
              "      <th>Y1</th>\n",
              "      <th>Y2</th>\n",
              "    </tr>\n",
              "  </thead>\n",
              "  <tbody>\n",
              "    <tr>\n",
              "      <th>0</th>\n",
              "      <td>0.98</td>\n",
              "      <td>514.5</td>\n",
              "      <td>294.0</td>\n",
              "      <td>110.25</td>\n",
              "      <td>7.0</td>\n",
              "      <td>2</td>\n",
              "      <td>0.0</td>\n",
              "      <td>0</td>\n",
              "      <td>15.55</td>\n",
              "      <td>21.33</td>\n",
              "    </tr>\n",
              "    <tr>\n",
              "      <th>1</th>\n",
              "      <td>0.98</td>\n",
              "      <td>514.5</td>\n",
              "      <td>294.0</td>\n",
              "      <td>110.25</td>\n",
              "      <td>7.0</td>\n",
              "      <td>3</td>\n",
              "      <td>0.0</td>\n",
              "      <td>0</td>\n",
              "      <td>15.55</td>\n",
              "      <td>21.33</td>\n",
              "    </tr>\n",
              "    <tr>\n",
              "      <th>2</th>\n",
              "      <td>0.98</td>\n",
              "      <td>514.5</td>\n",
              "      <td>294.0</td>\n",
              "      <td>110.25</td>\n",
              "      <td>7.0</td>\n",
              "      <td>4</td>\n",
              "      <td>0.0</td>\n",
              "      <td>0</td>\n",
              "      <td>15.55</td>\n",
              "      <td>21.33</td>\n",
              "    </tr>\n",
              "    <tr>\n",
              "      <th>3</th>\n",
              "      <td>0.98</td>\n",
              "      <td>514.5</td>\n",
              "      <td>294.0</td>\n",
              "      <td>110.25</td>\n",
              "      <td>7.0</td>\n",
              "      <td>5</td>\n",
              "      <td>0.0</td>\n",
              "      <td>0</td>\n",
              "      <td>15.55</td>\n",
              "      <td>21.33</td>\n",
              "    </tr>\n",
              "    <tr>\n",
              "      <th>4</th>\n",
              "      <td>0.90</td>\n",
              "      <td>563.5</td>\n",
              "      <td>318.5</td>\n",
              "      <td>122.50</td>\n",
              "      <td>7.0</td>\n",
              "      <td>2</td>\n",
              "      <td>0.0</td>\n",
              "      <td>0</td>\n",
              "      <td>20.84</td>\n",
              "      <td>28.28</td>\n",
              "    </tr>\n",
              "  </tbody>\n",
              "</table>\n",
              "</div>\n",
              "      <button class=\"colab-df-convert\" onclick=\"convertToInteractive('df-36b5305f-3973-4ff1-a1be-a88b21403603')\"\n",
              "              title=\"Convert this dataframe to an interactive table.\"\n",
              "              style=\"display:none;\">\n",
              "        \n",
              "  <svg xmlns=\"http://www.w3.org/2000/svg\" height=\"24px\"viewBox=\"0 0 24 24\"\n",
              "       width=\"24px\">\n",
              "    <path d=\"M0 0h24v24H0V0z\" fill=\"none\"/>\n",
              "    <path d=\"M18.56 5.44l.94 2.06.94-2.06 2.06-.94-2.06-.94-.94-2.06-.94 2.06-2.06.94zm-11 1L8.5 8.5l.94-2.06 2.06-.94-2.06-.94L8.5 2.5l-.94 2.06-2.06.94zm10 10l.94 2.06.94-2.06 2.06-.94-2.06-.94-.94-2.06-.94 2.06-2.06.94z\"/><path d=\"M17.41 7.96l-1.37-1.37c-.4-.4-.92-.59-1.43-.59-.52 0-1.04.2-1.43.59L10.3 9.45l-7.72 7.72c-.78.78-.78 2.05 0 2.83L4 21.41c.39.39.9.59 1.41.59.51 0 1.02-.2 1.41-.59l7.78-7.78 2.81-2.81c.8-.78.8-2.07 0-2.86zM5.41 20L4 18.59l7.72-7.72 1.47 1.35L5.41 20z\"/>\n",
              "  </svg>\n",
              "      </button>\n",
              "      \n",
              "  <style>\n",
              "    .colab-df-container {\n",
              "      display:flex;\n",
              "      flex-wrap:wrap;\n",
              "      gap: 12px;\n",
              "    }\n",
              "\n",
              "    .colab-df-convert {\n",
              "      background-color: #E8F0FE;\n",
              "      border: none;\n",
              "      border-radius: 50%;\n",
              "      cursor: pointer;\n",
              "      display: none;\n",
              "      fill: #1967D2;\n",
              "      height: 32px;\n",
              "      padding: 0 0 0 0;\n",
              "      width: 32px;\n",
              "    }\n",
              "\n",
              "    .colab-df-convert:hover {\n",
              "      background-color: #E2EBFA;\n",
              "      box-shadow: 0px 1px 2px rgba(60, 64, 67, 0.3), 0px 1px 3px 1px rgba(60, 64, 67, 0.15);\n",
              "      fill: #174EA6;\n",
              "    }\n",
              "\n",
              "    [theme=dark] .colab-df-convert {\n",
              "      background-color: #3B4455;\n",
              "      fill: #D2E3FC;\n",
              "    }\n",
              "\n",
              "    [theme=dark] .colab-df-convert:hover {\n",
              "      background-color: #434B5C;\n",
              "      box-shadow: 0px 1px 3px 1px rgba(0, 0, 0, 0.15);\n",
              "      filter: drop-shadow(0px 1px 2px rgba(0, 0, 0, 0.3));\n",
              "      fill: #FFFFFF;\n",
              "    }\n",
              "  </style>\n",
              "\n",
              "      <script>\n",
              "        const buttonEl =\n",
              "          document.querySelector('#df-36b5305f-3973-4ff1-a1be-a88b21403603 button.colab-df-convert');\n",
              "        buttonEl.style.display =\n",
              "          google.colab.kernel.accessAllowed ? 'block' : 'none';\n",
              "\n",
              "        async function convertToInteractive(key) {\n",
              "          const element = document.querySelector('#df-36b5305f-3973-4ff1-a1be-a88b21403603');\n",
              "          const dataTable =\n",
              "            await google.colab.kernel.invokeFunction('convertToInteractive',\n",
              "                                                     [key], {});\n",
              "          if (!dataTable) return;\n",
              "\n",
              "          const docLinkHtml = 'Like what you see? Visit the ' +\n",
              "            '<a target=\"_blank\" href=https://colab.research.google.com/notebooks/data_table.ipynb>data table notebook</a>'\n",
              "            + ' to learn more about interactive tables.';\n",
              "          element.innerHTML = '';\n",
              "          dataTable['output_type'] = 'display_data';\n",
              "          await google.colab.output.renderOutput(dataTable, element);\n",
              "          const docLink = document.createElement('div');\n",
              "          docLink.innerHTML = docLinkHtml;\n",
              "          element.appendChild(docLink);\n",
              "        }\n",
              "      </script>\n",
              "    </div>\n",
              "  </div>\n",
              "  "
            ]
          },
          "metadata": {},
          "execution_count": 9
        }
      ],
      "source": [
        "##Completed - Function to read excel file\n",
        "def read_excel(file_path):\n",
        "    \"\"\"\n",
        "    Reads an excel file into jupyter notebook as pandas dataframe\n",
        "    \n",
        "    Args:\n",
        "        file_path(str): dataset file path\n",
        "    \"\"\"\n",
        "    #read dataset file using pandas\n",
        "    data_df = pd.read_excel(file_path) # complete this line\n",
        "    \n",
        "    return data_df\n",
        "\n",
        "##TODO - replace filepath with your own dataset file path\n",
        "\n",
        "filepath = \"/content/ENB2012_data.xlsx\"\n",
        "data_df = read_excel(filepath)\n",
        "\n",
        "data_df.head()"
      ]
    },
    {
      "cell_type": "markdown",
      "id": "97be319b",
      "metadata": {
        "id": "97be319b"
      },
      "source": [
        "## Task 2: Normalize Dataset between 0 - 1 "
      ]
    },
    {
      "cell_type": "code",
      "execution_count": 10,
      "id": "4b26e973",
      "metadata": {
        "id": "4b26e973"
      },
      "outputs": [],
      "source": [
        "##Completed - Scale the data between 0 - 1 \n",
        "from sklearn.preprocessing import MinMaxScaler\n",
        "\n",
        "scaler = MinMaxScaler()\n",
        "scaled_df = scaler.fit_transform(data_df)\n",
        "scaled_df = pd.DataFrame(scaled_df, columns=['X1','X2','X3','X4','X5','X6','X7','X8', 'Y1', 'Y2'])\n",
        "#scaled_df.head()"
      ]
    },
    {
      "cell_type": "markdown",
      "id": "fb63d211",
      "metadata": {
        "id": "fb63d211"
      },
      "source": [
        "## Task 2: Explore and Visualize Data"
      ]
    },
    {
      "cell_type": "markdown",
      "id": "7b80bcad",
      "metadata": {
        "id": "7b80bcad"
      },
      "source": [
        "### Task 2.1: Statistical Exploration of Data\n",
        "* (Optinal) - Feel free to explore the dataset and gain insights using other methods and libraries"
      ]
    },
    {
      "cell_type": "code",
      "execution_count": 11,
      "id": "bdd58ed6",
      "metadata": {
        "colab": {
          "base_uri": "https://localhost:8080/",
          "height": 364
        },
        "id": "bdd58ed6",
        "outputId": "01035e3e-4a6c-4001-830c-2199fff1ec1e"
      },
      "outputs": [
        {
          "output_type": "execute_result",
          "data": {
            "text/plain": [
              "               X1          X2          X3          X4          X5          X6  \\\n",
              "count  768.000000  768.000000  768.000000  768.000000  768.000000  768.000000   \n",
              "mean     0.400463    0.534722    0.428571    0.601852    0.500000    0.500000   \n",
              "std      0.293826    0.299613    0.254382    0.409668    0.500326    0.372921   \n",
              "min      0.000000    0.000000    0.000000    0.000000    0.000000    0.000000   \n",
              "25%      0.173611    0.312500    0.285714    0.277778    0.000000    0.250000   \n",
              "50%      0.361111    0.541667    0.428571    0.666667    0.500000    0.500000   \n",
              "75%      0.583333    0.770833    0.571429    1.000000    1.000000    0.750000   \n",
              "max      1.000000    1.000000    1.000000    1.000000    1.000000    1.000000   \n",
              "\n",
              "               X7          X8          Y1          Y2  \n",
              "count  768.000000  768.000000  768.000000  768.000000  \n",
              "mean     0.585938    0.562500    0.439396    0.368644  \n",
              "std      0.333051    0.310192    0.272046    0.256216  \n",
              "min      0.000000    0.000000    0.000000    0.000000  \n",
              "25%      0.250000    0.350000    0.188258    0.127121  \n",
              "50%      0.625000    0.600000    0.348881    0.301104  \n",
              "75%      1.000000    0.800000    0.691763    0.598775  \n",
              "max      1.000000    1.000000    1.000000    1.000000  "
            ],
            "text/html": [
              "\n",
              "  <div id=\"df-f815a1ef-0a12-41fa-955c-5a91aeb8f7fb\">\n",
              "    <div class=\"colab-df-container\">\n",
              "      <div>\n",
              "<style scoped>\n",
              "    .dataframe tbody tr th:only-of-type {\n",
              "        vertical-align: middle;\n",
              "    }\n",
              "\n",
              "    .dataframe tbody tr th {\n",
              "        vertical-align: top;\n",
              "    }\n",
              "\n",
              "    .dataframe thead th {\n",
              "        text-align: right;\n",
              "    }\n",
              "</style>\n",
              "<table border=\"1\" class=\"dataframe\">\n",
              "  <thead>\n",
              "    <tr style=\"text-align: right;\">\n",
              "      <th></th>\n",
              "      <th>X1</th>\n",
              "      <th>X2</th>\n",
              "      <th>X3</th>\n",
              "      <th>X4</th>\n",
              "      <th>X5</th>\n",
              "      <th>X6</th>\n",
              "      <th>X7</th>\n",
              "      <th>X8</th>\n",
              "      <th>Y1</th>\n",
              "      <th>Y2</th>\n",
              "    </tr>\n",
              "  </thead>\n",
              "  <tbody>\n",
              "    <tr>\n",
              "      <th>count</th>\n",
              "      <td>768.000000</td>\n",
              "      <td>768.000000</td>\n",
              "      <td>768.000000</td>\n",
              "      <td>768.000000</td>\n",
              "      <td>768.000000</td>\n",
              "      <td>768.000000</td>\n",
              "      <td>768.000000</td>\n",
              "      <td>768.000000</td>\n",
              "      <td>768.000000</td>\n",
              "      <td>768.000000</td>\n",
              "    </tr>\n",
              "    <tr>\n",
              "      <th>mean</th>\n",
              "      <td>0.400463</td>\n",
              "      <td>0.534722</td>\n",
              "      <td>0.428571</td>\n",
              "      <td>0.601852</td>\n",
              "      <td>0.500000</td>\n",
              "      <td>0.500000</td>\n",
              "      <td>0.585938</td>\n",
              "      <td>0.562500</td>\n",
              "      <td>0.439396</td>\n",
              "      <td>0.368644</td>\n",
              "    </tr>\n",
              "    <tr>\n",
              "      <th>std</th>\n",
              "      <td>0.293826</td>\n",
              "      <td>0.299613</td>\n",
              "      <td>0.254382</td>\n",
              "      <td>0.409668</td>\n",
              "      <td>0.500326</td>\n",
              "      <td>0.372921</td>\n",
              "      <td>0.333051</td>\n",
              "      <td>0.310192</td>\n",
              "      <td>0.272046</td>\n",
              "      <td>0.256216</td>\n",
              "    </tr>\n",
              "    <tr>\n",
              "      <th>min</th>\n",
              "      <td>0.000000</td>\n",
              "      <td>0.000000</td>\n",
              "      <td>0.000000</td>\n",
              "      <td>0.000000</td>\n",
              "      <td>0.000000</td>\n",
              "      <td>0.000000</td>\n",
              "      <td>0.000000</td>\n",
              "      <td>0.000000</td>\n",
              "      <td>0.000000</td>\n",
              "      <td>0.000000</td>\n",
              "    </tr>\n",
              "    <tr>\n",
              "      <th>25%</th>\n",
              "      <td>0.173611</td>\n",
              "      <td>0.312500</td>\n",
              "      <td>0.285714</td>\n",
              "      <td>0.277778</td>\n",
              "      <td>0.000000</td>\n",
              "      <td>0.250000</td>\n",
              "      <td>0.250000</td>\n",
              "      <td>0.350000</td>\n",
              "      <td>0.188258</td>\n",
              "      <td>0.127121</td>\n",
              "    </tr>\n",
              "    <tr>\n",
              "      <th>50%</th>\n",
              "      <td>0.361111</td>\n",
              "      <td>0.541667</td>\n",
              "      <td>0.428571</td>\n",
              "      <td>0.666667</td>\n",
              "      <td>0.500000</td>\n",
              "      <td>0.500000</td>\n",
              "      <td>0.625000</td>\n",
              "      <td>0.600000</td>\n",
              "      <td>0.348881</td>\n",
              "      <td>0.301104</td>\n",
              "    </tr>\n",
              "    <tr>\n",
              "      <th>75%</th>\n",
              "      <td>0.583333</td>\n",
              "      <td>0.770833</td>\n",
              "      <td>0.571429</td>\n",
              "      <td>1.000000</td>\n",
              "      <td>1.000000</td>\n",
              "      <td>0.750000</td>\n",
              "      <td>1.000000</td>\n",
              "      <td>0.800000</td>\n",
              "      <td>0.691763</td>\n",
              "      <td>0.598775</td>\n",
              "    </tr>\n",
              "    <tr>\n",
              "      <th>max</th>\n",
              "      <td>1.000000</td>\n",
              "      <td>1.000000</td>\n",
              "      <td>1.000000</td>\n",
              "      <td>1.000000</td>\n",
              "      <td>1.000000</td>\n",
              "      <td>1.000000</td>\n",
              "      <td>1.000000</td>\n",
              "      <td>1.000000</td>\n",
              "      <td>1.000000</td>\n",
              "      <td>1.000000</td>\n",
              "    </tr>\n",
              "  </tbody>\n",
              "</table>\n",
              "</div>\n",
              "      <button class=\"colab-df-convert\" onclick=\"convertToInteractive('df-f815a1ef-0a12-41fa-955c-5a91aeb8f7fb')\"\n",
              "              title=\"Convert this dataframe to an interactive table.\"\n",
              "              style=\"display:none;\">\n",
              "        \n",
              "  <svg xmlns=\"http://www.w3.org/2000/svg\" height=\"24px\"viewBox=\"0 0 24 24\"\n",
              "       width=\"24px\">\n",
              "    <path d=\"M0 0h24v24H0V0z\" fill=\"none\"/>\n",
              "    <path d=\"M18.56 5.44l.94 2.06.94-2.06 2.06-.94-2.06-.94-.94-2.06-.94 2.06-2.06.94zm-11 1L8.5 8.5l.94-2.06 2.06-.94-2.06-.94L8.5 2.5l-.94 2.06-2.06.94zm10 10l.94 2.06.94-2.06 2.06-.94-2.06-.94-.94-2.06-.94 2.06-2.06.94z\"/><path d=\"M17.41 7.96l-1.37-1.37c-.4-.4-.92-.59-1.43-.59-.52 0-1.04.2-1.43.59L10.3 9.45l-7.72 7.72c-.78.78-.78 2.05 0 2.83L4 21.41c.39.39.9.59 1.41.59.51 0 1.02-.2 1.41-.59l7.78-7.78 2.81-2.81c.8-.78.8-2.07 0-2.86zM5.41 20L4 18.59l7.72-7.72 1.47 1.35L5.41 20z\"/>\n",
              "  </svg>\n",
              "      </button>\n",
              "      \n",
              "  <style>\n",
              "    .colab-df-container {\n",
              "      display:flex;\n",
              "      flex-wrap:wrap;\n",
              "      gap: 12px;\n",
              "    }\n",
              "\n",
              "    .colab-df-convert {\n",
              "      background-color: #E8F0FE;\n",
              "      border: none;\n",
              "      border-radius: 50%;\n",
              "      cursor: pointer;\n",
              "      display: none;\n",
              "      fill: #1967D2;\n",
              "      height: 32px;\n",
              "      padding: 0 0 0 0;\n",
              "      width: 32px;\n",
              "    }\n",
              "\n",
              "    .colab-df-convert:hover {\n",
              "      background-color: #E2EBFA;\n",
              "      box-shadow: 0px 1px 2px rgba(60, 64, 67, 0.3), 0px 1px 3px 1px rgba(60, 64, 67, 0.15);\n",
              "      fill: #174EA6;\n",
              "    }\n",
              "\n",
              "    [theme=dark] .colab-df-convert {\n",
              "      background-color: #3B4455;\n",
              "      fill: #D2E3FC;\n",
              "    }\n",
              "\n",
              "    [theme=dark] .colab-df-convert:hover {\n",
              "      background-color: #434B5C;\n",
              "      box-shadow: 0px 1px 3px 1px rgba(0, 0, 0, 0.15);\n",
              "      filter: drop-shadow(0px 1px 2px rgba(0, 0, 0, 0.3));\n",
              "      fill: #FFFFFF;\n",
              "    }\n",
              "  </style>\n",
              "\n",
              "      <script>\n",
              "        const buttonEl =\n",
              "          document.querySelector('#df-f815a1ef-0a12-41fa-955c-5a91aeb8f7fb button.colab-df-convert');\n",
              "        buttonEl.style.display =\n",
              "          google.colab.kernel.accessAllowed ? 'block' : 'none';\n",
              "\n",
              "        async function convertToInteractive(key) {\n",
              "          const element = document.querySelector('#df-f815a1ef-0a12-41fa-955c-5a91aeb8f7fb');\n",
              "          const dataTable =\n",
              "            await google.colab.kernel.invokeFunction('convertToInteractive',\n",
              "                                                     [key], {});\n",
              "          if (!dataTable) return;\n",
              "\n",
              "          const docLinkHtml = 'Like what you see? Visit the ' +\n",
              "            '<a target=\"_blank\" href=https://colab.research.google.com/notebooks/data_table.ipynb>data table notebook</a>'\n",
              "            + ' to learn more about interactive tables.';\n",
              "          element.innerHTML = '';\n",
              "          dataTable['output_type'] = 'display_data';\n",
              "          await google.colab.output.renderOutput(dataTable, element);\n",
              "          const docLink = document.createElement('div');\n",
              "          docLink.innerHTML = docLinkHtml;\n",
              "          element.appendChild(docLink);\n",
              "        }\n",
              "      </script>\n",
              "    </div>\n",
              "  </div>\n",
              "  "
            ]
          },
          "metadata": {},
          "execution_count": 11
        }
      ],
      "source": [
        "##Completed \n",
        "scaled_df.describe()"
      ]
    },
    {
      "cell_type": "markdown",
      "id": "740d4f43",
      "metadata": {
        "id": "740d4f43"
      },
      "source": [
        "### Task 2.2: Visualize Dataset Features\n"
      ]
    },
    {
      "cell_type": "code",
      "execution_count": 12,
      "id": "4eaa392f",
      "metadata": {
        "id": "4eaa392f"
      },
      "outputs": [],
      "source": [
        "def create_scatter(feature1, feature2):\n",
        "    with plt.style.context(\"ggplot\"):\n",
        "        fig = plt.figure(figsize=(8,4))\n",
        "\n",
        "        plt.scatter(x = scaled_df[feature1],\n",
        "                    y = scaled_df[feature2],\n",
        "                    c= np.random.rand(scaled_df.shape[0]),\n",
        "                    s=20\n",
        "                   )\n",
        "\n",
        "        plt.xlabel(feature1.capitalize())\n",
        "        plt.ylabel(feature2.capitalize())\n",
        "\n",
        "        plt.title(\"%s vs %s\"%(feature1.capitalize(), feature2.capitalize()))\n",
        "        \n",
        "        \n"
      ]
    },
    {
      "cell_type": "code",
      "execution_count": 13,
      "id": "6bd416e2",
      "metadata": {
        "colab": {
          "base_uri": "https://localhost:8080/",
          "height": 81,
          "referenced_widgets": [
            "0f101a7a6de444e2bdc40590c0e6e101",
            "40b839aaf1a74d05acb9531d4976c403",
            "00e7e74b22104af8a7a07f17d66dee3d",
            "ac8253df5e154af1ab0da425017e0ef0",
            "0121afdb6e0745ae8dbb3811e8606b72",
            "056bf948d76d4b869f6f65ec7a0ae980",
            "1e0f57d1c5a34363ae577bfa48365c1e",
            "46dc2f26ebac40eba68751e2b5f4320f",
            "d312f374093a495493d11272bc347201",
            "e5ca9cadcfb64debab49c6895d2aff8d",
            "10c00a82995b4983a45cfe18c342d577"
          ]
        },
        "id": "6bd416e2",
        "outputId": "a46a3cd1-b77b-454e-fad1-b23d9ee02249"
      },
      "outputs": [
        {
          "output_type": "display_data",
          "data": {
            "text/plain": [
              "interactive(children=(Dropdown(description='feature1', options=('X1', 'X2', 'X3', 'X4', 'X5', 'X6', 'X7', 'X8'…"
            ],
            "application/vnd.jupyter.widget-view+json": {
              "version_major": 2,
              "version_minor": 0,
              "model_id": "0f101a7a6de444e2bdc40590c0e6e101"
            }
          },
          "metadata": {}
        },
        {
          "output_type": "display_data",
          "data": {
            "text/plain": [
              "Canvas(toolbar=Toolbar(toolitems=[('Home', 'Reset original view', 'home', 'home'), ('Back', 'Back to previous …"
            ],
            "image/png": "[encoded data removed]",
            "text/html": [
              "\n",
              "            <div style=\"display: inline-block;\">\n",
              "                <div class=\"jupyter-widgets widget-label\" style=\"text-align: center;\">\n",
              "                    Figure\n",
              "                </div>\n",
              "                <img src='data:image/png;base64,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' width=576.0/>\n",
              "            </div>\n",
              "        "
            ],
            "application/vnd.jupyter.widget-view+json": {
              "version_major": 2,
              "version_minor": 0,
              "model_id": "10c00a82995b4983a45cfe18c342d577"
            }
          },
          "metadata": {}
        }
      ],
      "source": [
        "\n",
        "##TODO - Using the interactive plot, select different features and visualize their scatter plot\n",
        "\n",
        "widgets.interact(create_scatter, feature1=scaled_df.columns, feature2=scaled_df.columns);"
      ]
    },
    {
      "cell_type": "markdown",
      "id": "38faf78e",
      "metadata": {
        "id": "38faf78e"
      },
      "source": [
        "## Task 3: Prepare Dataset Training"
      ]
    },
    {
      "cell_type": "code",
      "execution_count": 14,
      "id": "16852df6",
      "metadata": {
        "id": "16852df6"
      },
      "outputs": [],
      "source": [
        "## TODO - Assign each variable in the dataset dataframe to a new variable. \n",
        "\n",
        "#independent variables\n",
        "x1 = scaled_df.iloc[:,0].to_numpy() #extract the first independent variable and convert to numpy()\n",
        "\n",
        "#TODO - Complete the remaining\n",
        "\n",
        "x2 = scaled_df.iloc[:,1].to_numpy()\n",
        "x3 = scaled_df.iloc[:,2].to_numpy()\n",
        "x4 = scaled_df.iloc[:,3].to_numpy()\n",
        "x5 = scaled_df.iloc[:,4].to_numpy()\n",
        "x6 = scaled_df.iloc[:,5].to_numpy()\n",
        "x7 = scaled_df.iloc[:,6].to_numpy()\n",
        "x8 = scaled_df.iloc[:,7].to_numpy()\n",
        "\n",
        "#Dependent variables\n",
        "y1 = scaled_df.iloc[:,8].to_numpy()\n",
        "y2 = scaled_df.iloc[:,9].to_numpy()"
      ]
    },
    {
      "cell_type": "markdown",
      "id": "604284ab",
      "metadata": {
        "id": "604284ab"
      },
      "source": [
        "## Task 4: Build Linear Regression Model\n",
        "\n",
        "You'll implement the hypothesis, cost function and gradient descent algorithm as described in the lectures.\n",
        "\n",
        "![image.png](attachment:image.png)"
      ]
    },
    {
      "cell_type": "code",
      "execution_count": 15,
      "id": "f1aacd7f",
      "metadata": {
        "id": "f1aacd7f"
      },
      "outputs": [],
      "source": [
        "## TODO - Implement hypothesis\n",
        "def h(x, b = 0, w = 0):\n",
        "    \"\"\"\n",
        "    calculates the predicted values (or predicted targets) for a given set of inputs and thetas.\n",
        "      x (ndarray (m,)): Data, m examples \n",
        "      w,b (scalar)    : model parameters  \n",
        "    \"\"\"\n",
        "    \n",
        "    #complete the function \n",
        "    h_p = b + w*x\n",
        "    \n",
        "    return h_p \n",
        "\n",
        "# TODO - Implement the cost Function\n",
        "def compute_cost(x, y, w, b):\n",
        "    \"\"\"\n",
        "    Computes the gradient for linear regression \n",
        "    Args:\n",
        "      x (ndarray (m,)): Data, m examples \n",
        "      y (ndarray (m,)): target values\n",
        "      w,b (scalar)    : model parameters \n",
        "      \n",
        "    Return:\n",
        "        total_cost: scalar\n",
        "    \"\"\"\n",
        "    ##Complete Function\n",
        "    m = len(y)\n",
        "    y_pred = np.dot(x, w) + b\n",
        "    total_cost = np.sum((y_pred - y) ** 2) / (2 * m)\n",
        "    \n",
        "    return total_cost\n",
        "\n",
        "### TODO -  Implement Gradient Function\n",
        "\n",
        "def compute_gradient(x, y, w, b): \n",
        "    \"\"\"\n",
        "    Computes the gradient for linear regression \n",
        "    Args:\n",
        "      x (ndarray (m,)): Data, m examples \n",
        "      y (ndarray (m,)): target values\n",
        "      w,b (scalar)    : model parameters  \n",
        "    Returns\n",
        "      dj_dw (scalar): The gradient of the cost w.r.t. the parameters w\n",
        "      dj_db (scalar): The gradient of the cost w.r.t. the parameter b     \n",
        "     \"\"\"\n",
        "    \n",
        "    #complete function\n",
        "    m = len(y)\n",
        "    y_pred = np.dot(x, w) + b\n",
        "    dj_dw = np.dot(x.T, (y_pred - y)) / m\n",
        "    dj_db = np.sum(y_pred - y) / m\n",
        "        \n",
        "    return dj_dw, dj_db\n",
        "\n",
        "# Completed - Gradient Descent\n",
        "def gradient_descent(x_train, y_train, w_init, b_init, alpha, num_iters):\n",
        "    \n",
        "    b = b_init\n",
        "    w = w_init\n",
        "    \n",
        "    diff = compute_cost(x_train, y_train, w, b)\n",
        "    \n",
        "    print(\"initial Cost: {}\".format(compute_cost(x_train, y_train, w, b)))\n",
        "\n",
        "    for i in range(num_iters):\n",
        "        # Calculate the gradient and update the parameters using gradient_function\n",
        "        dj_dw, dj_db = compute_gradient(x_train, y_train, w , b) \n",
        "        \n",
        "        # Update Parameters using equation (3) above\n",
        "        b = b - alpha * dj_db                            \n",
        "        w = w - alpha * dj_dw   \n",
        "        \n",
        "    return w, b\n",
        "\n",
        "\n",
        "#Function to predict output - Completed\n",
        "\n",
        "def predict(x, w, b):\n",
        "    \"\"\"\n",
        "    Predicts the output value given the input x and coefficients w and b\n",
        "    \"\"\"\n",
        "\n",
        "    m = x.shape[0] #number of test samples\n",
        "    \n",
        "    y_preds = []\n",
        "    \n",
        "    for i in range(m):\n",
        "        \n",
        "        y_pred = w * x[i] + b\n",
        "        \n",
        "        y_preds.append(y_pred)\n",
        "        \n",
        "    return np.array(y_preds)\n",
        "\n",
        "\n",
        "    "
      ]
    },
    {
      "cell_type": "markdown",
      "id": "09be819e",
      "metadata": {
        "id": "09be819e"
      },
      "source": [
        "## Task 5: Train Linear Regression Model With Gradient Descent\n",
        "\n",
        " * For each of the independent variables (x1, x2, .... , x8)run gradient descent algorithm to find the final coefficients (w_final, b_final). \n",
        "\n",
        "* Run this exercise for each dependent variable y1 and y2 (cooling and heating load). \n",
        "\n",
        "* Print _w_final_ and _b_final_ for each of the gradient descent runs. Note: There are 16 runs of gradient descent you must perform. \n",
        "\n",
        "* For example: (x1,y1), (x1, y2) , (x2, y1, x2, y2) ..... (x8, y1), (x8,y2)\n",
        "\n"
      ]
    },
    {
      "cell_type": "markdown",
      "id": "be8747c0",
      "metadata": {
        "id": "be8747c0"
      },
      "source": [
        "### Task 5.1: Split  Dataset into Training and Test set \n",
        "\n",
        "* Split each of the independent and dependent variables into 80% training set and 20% training set. Check this [link](http://scikit-learn.org/stable/modules/generated/sklearn.model_selection.train_test_split.html) to easily split dataset\n",
        "\n",
        "* Run gradient descent on the training samples to find the coeficients (w_final, and b_final)\n",
        "\n",
        "* Using the w_final and b_final, compute the predicted y-values\n",
        "* Use the setting below for your runs. \n",
        "\n",
        "##### initialize parameters\n",
        "w_init = 0.1\n",
        "\n",
        "b_init = 0.5\n",
        "\n",
        "##### Gradient descent settings\n",
        "iterations = 10000\n",
        "\n",
        "tmp_alpha = 0.01\n"
      ]
    },
    {
      "cell_type": "markdown",
      "id": "d7e3d654",
      "metadata": {
        "id": "d7e3d654"
      },
      "source": [
        "### Example Run: Gradient Descent for X1, Y1"
      ]
    },
    {
      "cell_type": "code",
      "execution_count": 16,
      "id": "fa0d51ef",
      "metadata": {
        "colab": {
          "base_uri": "https://localhost:8080/",
          "height": 53
        },
        "id": "fa0d51ef",
        "outputId": "8e779afe-6aa3-461b-b1a2-adc328a4e602"
      },
      "outputs": [
        {
          "output_type": "stream",
          "name": "stdout",
          "text": [
            "initial Cost: 0.037831587899434145\n",
            "w_final , b_final: (  0.5803,  0.2026)\n"
          ]
        }
      ],
      "source": [
        "from sklearn.model_selection import train_test_split\n",
        "\n",
        "# initialize parameters\n",
        "w_init = 0.1\n",
        "b_init = 0.5\n",
        "\n",
        "# Gradient descent settings\n",
        "iterations = 10000\n",
        "tmp_alpha = 0.01\n",
        "\n",
        "\n",
        "# using the train test split function\n",
        "x1_train,x1_test, y1_train, y1_test = train_test_split(x1,y1, random_state=104,test_size = 0.25, shuffle=True)\n",
        "\n",
        "# run gradient descent for x1, y1\n",
        "w_final, b_final = gradient_descent(x1_train ,y1_train, w_init, b_init, tmp_alpha, iterations)\n",
        "print(f\"w_final , b_final: ({w_final:8.4f},{b_final:8.4f})\")\n"
      ]
    },
    {
      "cell_type": "code",
      "execution_count": 17,
      "id": "2993fe22",
      "metadata": {
        "colab": {
          "base_uri": "https://localhost:8080/",
          "height": 589
        },
        "id": "2993fe22",
        "outputId": "fbd0ff7f-026f-44f1-ecfd-4d15df529a7a"
      },
      "outputs": [
        {
          "output_type": "stream",
          "name": "stdout",
          "text": [
            "initial Cost: 0.037831587899434145\n",
            "(x1, y1): w_final = 0.5803, b_final = 0.2026\n",
            "initial Cost: 0.043988195434645834\n",
            "(x1, y2): w_final = 0.5567, b_final = 0.1425\n",
            "initial Cost: 0.04985120260286772\n",
            "(x2, y1): w_final = -0.6005, b_final = 0.7563\n",
            "initial Cost: 0.05655741176603483\n",
            "(x2, y2): w_final = -0.5788, b_final = 0.6752\n",
            "initial Cost: 0.03995325707884356\n",
            "(x3, y1): w_final = 0.4724, b_final = 0.2352\n",
            "initial Cost: 0.04639589914281583\n",
            "(x3, y2): w_final = 0.4202, b_final = 0.1877\n",
            "initial Cost: 0.05531197462696932\n",
            "(x4, y1): w_final = -0.5738, b_final = 0.7839\n",
            "initial Cost: 0.06219868285774163\n",
            "(x4, y2): w_final = -0.5425, b_final = 0.6953\n",
            "initial Cost: 0.032603459811257646\n",
            "(x5, y1): w_final = 0.4842, b_final = 0.1964\n",
            "initial Cost: 0.03975575173869304\n",
            "(x5, y2): w_final = 0.4618, b_final = 0.1380\n",
            "initial Cost: 0.04401788561985135\n",
            "(x6, y1): w_final = 0.0163, b_final = 0.4262\n",
            "initial Cost: 0.050546125712518736\n",
            "(x6, y2): w_final = 0.0248, b_final = 0.3525\n",
            "initial Cost: 0.042572845398949274\n",
            "(x7, y1): w_final = 0.2330, b_final = 0.2963\n",
            "initial Cost: 0.05057852979087972\n",
            "(x7, y2): w_final = 0.1706, b_final = 0.2638\n",
            "initial Cost: 0.04407334509405325\n",
            "(x8, y1): w_final = 0.0866, b_final = 0.3847\n",
            "initial Cost: 0.05157330801618654\n",
            "(x8, y2): w_final = 0.0524, b_final = 0.3348\n"
          ]
        }
      ],
      "source": [
        "# initialize parameters\n",
        "w_init = 0.1\n",
        "b_init = 0.5\n",
        "\n",
        "# Gradient descent settings\n",
        "iterations = 10000\n",
        "tmp_alpha = 0.01\n",
        "\n",
        "# import train_test_split function\n",
        "from sklearn.model_selection import train_test_split\n",
        "\n",
        "# loop over all combinations of x and y\n",
        "for i, xi in enumerate(['x1', 'x2', 'x3', 'x4', 'x5', 'x6', 'x7', 'x8']):\n",
        "    for j, yj in enumerate(['y1', 'y2']):\n",
        "        \n",
        "        # get the x and y variables from the stored variables\n",
        "        x = globals()[xi]\n",
        "        y = globals()[yj]\n",
        "        \n",
        "        # split the data into training and test sets\n",
        "        x_train, x_test, y_train, y_test = train_test_split(x, y, test_size=0.25, random_state=104, shuffle=True)\n",
        "        \n",
        "        # run gradient descent on the training data\n",
        "        w_final, b_final = gradient_descent(x_train, y_train, w_init, b_init, tmp_alpha, iterations)\n",
        "        \n",
        "        # print the results\n",
        "        print(f\"({xi}, {yj}): w_final = {w_final:.4f}, b_final = {b_final:.4f}\")\n"
      ]
    },
    {
      "cell_type": "markdown",
      "id": "a215015b",
      "metadata": {
        "id": "a215015b"
      },
      "source": [
        "## Task 6:  Evaluate Model - Mean Square Error\n",
        "\n",
        "Using the test samples, and the final coefficients obtained from running gradient descent, compute the mean square error of the predicted cooling (Y1) and (Y2) loads.\n",
        "![image.png](attachment:image.png)\n",
        "\n"
      ]
    },
    {
      "cell_type": "code",
      "execution_count": 18,
      "id": "5eed77f7",
      "metadata": {
        "id": "5eed77f7"
      },
      "outputs": [],
      "source": [
        "## TODO - Implement evaluate_model() function which basically computes \n",
        "#the mean square error between the true output variables and predicted output variables\n",
        "\n",
        "def evaluate_model(y_true, y_preds):\n",
        "    \n",
        "    \"\"\"\n",
        "    Args:\n",
        "        y_true: true output values\n",
        "        y_preds: model predicted output values\n",
        "        \n",
        "    Return:\n",
        "        return MSE\n",
        "    \"\"\"\n",
        "    # Complete MSE function\n",
        "\n",
        "    # Calculate the difference between the true and predicted values\n",
        "    diff = y_true - y_preds\n",
        "    \n",
        "    # Calculate the squared difference\n",
        "    squared_diff = diff ** 2\n",
        "    \n",
        "    # Calculate the mean of squared differences\n",
        "    MSE = squared_diff.mean()\n",
        "    \n",
        "    return MSE\n",
        "    "
      ]
    },
    {
      "cell_type": "markdown",
      "id": "9648c692",
      "metadata": {
        "id": "9648c692"
      },
      "source": [
        "### Run Cell To Test MSE function implementation"
      ]
    },
    {
      "cell_type": "code",
      "execution_count": 19,
      "id": "e12d7026",
      "metadata": {
        "colab": {
          "base_uri": "https://localhost:8080/",
          "height": 142
        },
        "id": "e12d7026",
        "outputId": "65221f7a-ac29-4ed0-c71f-06423ef00a0d"
      },
      "outputs": [
        {
          "output_type": "stream",
          "name": "stderr",
          "text": [
            "test_add (__main__.TestNotebook) ... ok\n",
            "\n",
            "----------------------------------------------------------------------\n",
            "Ran 1 test in 0.005s\n",
            "\n",
            "OK\n"
          ]
        },
        {
          "output_type": "execute_result",
          "data": {
            "text/plain": [
              "<unittest.main.TestProgram at 0x7fcd4b1fcb20>"
            ]
          },
          "metadata": {},
          "execution_count": 19
        }
      ],
      "source": [
        "##Test evaluate_model() function by run\n",
        "import unittest\n",
        "\n",
        "class TestNotebook(unittest.TestCase):\n",
        "    \n",
        "    def test_add(self):\n",
        "        self.assertEqual(evaluate_model(np.array([2 , 2]), np.array([1.5 , 1.5])), 0.25)\n",
        "        \n",
        "\n",
        "unittest.main(argv=[''], verbosity=2, exit=False)"
      ]
    },
    {
      "cell_type": "markdown",
      "id": "651209d6",
      "metadata": {
        "id": "651209d6"
      },
      "source": [
        "## Task 7: Answer the following Questions\n",
        "\n",
        "* Based on the training and evaluation of each of the univariate linear regression models, identify which of the univariate variables best approximates the output Y1, and Y2. \n",
        "\n",
        "* Which one of the independent variables performs the worse in approximate Y1, and Y2 outputs when trained with linear regression. \n",
        "\n"
      ]
    },
    {
      "cell_type": "code",
      "execution_count": 20,
      "id": "8bcd4202",
      "metadata": {
        "colab": {
          "base_uri": "https://localhost:8080/",
          "height": 392
        },
        "id": "8bcd4202",
        "outputId": "156e9d0e-5cb1-4cc2-fed0-4bbe1a62ec8d"
      },
      "outputs": [
        {
          "output_type": "stream",
          "name": "stdout",
          "text": [
            "MSE scores for Y1:\n",
            "x1_y1: 0.0479\n",
            "x2_y1: 0.0442\n",
            "x3_y1: 0.0565\n",
            "x4_y1: 0.0200\n",
            "x5_y1: 0.0164\n",
            "x6_y1: 0.0748\n",
            "x7_y1: 0.0718\n",
            "x8_y1: 0.0746\n",
            "MSE scores for Y2:\n",
            "x1_y2: 0.0393\n",
            "x2_y2: 0.0359\n",
            "x3_y2: 0.0503\n",
            "x4_y2: 0.0164\n",
            "x5_y2: 0.0133\n",
            "x6_y2: 0.0642\n",
            "x7_y2: 0.0627\n",
            "x8_y2: 0.0641\n",
            "\n",
            "The best variable for Y1 is x5_y1 with MSE of 0.0164\n",
            "The best variable for Y2 is x5_y2 with MSE of 0.0133\n"
          ]
        }
      ],
      "source": [
        "from sklearn.linear_model import LinearRegression\n",
        "\n",
        "# create dictionaries to store the MSE values\n",
        "mse_dict_y1 = {}\n",
        "mse_dict_y2 = {}\n",
        "\n",
        "# iterate through each variable and find its MSE for Y1 and Y2\n",
        "for i, var in enumerate([x1, x2, x3, x4, x5, x6, x7, x8]):\n",
        "    \n",
        "    # reshape the variable to 2D array\n",
        "    X = var.reshape(-1, 1)\n",
        "    \n",
        "    # split the data into train and test\n",
        "    X_train, X_test, y1_train, y1_test = train_test_split(X, y1, test_size=0.25, random_state=104, shuffle=True)\n",
        "    X_train, X_test, y2_train, y2_test = train_test_split(X, y2, test_size=0.25, random_state=104, shuffle=True)\n",
        "    \n",
        "    # initialize the model\n",
        "    lr = LinearRegression()\n",
        "    \n",
        "    # fit the model\n",
        "    lr.fit(X_train, y1_train)\n",
        "    \n",
        "    # predict the values\n",
        "    y1_preds = lr.predict(X_test)\n",
        "    \n",
        "    # calculate the MSE for Y1\n",
        "    mse_dict_y1[f\"x{i+1}_y1\"] = evaluate_model(y1_test, y1_preds)\n",
        "    \n",
        "    # fit the model for Y2\n",
        "    lr.fit(X_train, y2_train)\n",
        "    y2_preds = lr.predict(X_test)\n",
        "    \n",
        "    # calculate the MSE for Y2\n",
        "    mse_dict_y2[f\"x{i+1}_y2\"] = evaluate_model(y2_test, y2_preds)\n",
        "\n",
        "# print the MSE scores for all the variable combinations for Y1\n",
        "print(\"MSE scores for Y1:\")\n",
        "for k, v in mse_dict_y1.items():\n",
        "    print(f\"{k}: {v:.4f}\")\n",
        "    \n",
        "# print the MSE scores for all the variable combinations for Y2\n",
        "print(\"MSE scores for Y2:\")\n",
        "for k, v in mse_dict_y2.items():\n",
        "    print(f\"{k}: {v:.4f}\")\n",
        "\n",
        "# find the variable with the lowest MSE for Y1 and Y2\n",
        "best_var_y1 = min(mse_dict_y1, key=mse_dict_y1.get)\n",
        "best_var_y2 = min(mse_dict_y2, key=mse_dict_y2.get)\n",
        "\n",
        "# print the results\n",
        "print(f\"\\nThe best variable for Y1 is {best_var_y1} with MSE of {mse_dict_y1[best_var_y1]:.4f}\")\n",
        "print(f\"The best variable for Y2 is {best_var_y2} with MSE of {mse_dict_y2[best_var_y2]:.4f}\")\n"
      ]
    },
    {
      "cell_type": "code",
      "execution_count": 21,
      "id": "544d220e",
      "metadata": {
        "colab": {
          "base_uri": "https://localhost:8080/",
          "height": 53
        },
        "id": "544d220e",
        "outputId": "a19a6314-453a-4129-a465-51bcd4dc3b5f"
      },
      "outputs": [
        {
          "output_type": "stream",
          "name": "stdout",
          "text": [
            "The worst variable for Y1 is x6_y1 with MSE of 0.0748\n",
            "The worst variable for Y2 is x6_y2 with MSE of 0.0642\n"
          ]
        }
      ],
      "source": [
        "# find the variable with the highest MSE for Y1 and Y2\n",
        "worst_var_y1 = max(mse_dict_y1, key=mse_dict_y1.get)\n",
        "worst_var_y2 = max(mse_dict_y2, key=mse_dict_y2.get)\n",
        "\n",
        "# print the results\n",
        "print(f\"The worst variable for Y1 is {worst_var_y1} with MSE of {mse_dict_y1[worst_var_y1]:.4f}\")\n",
        "print(f\"The worst variable for Y2 is {worst_var_y2} with MSE of {mse_dict_y2[worst_var_y2]:.4f}\")\n"
      ]
    }
  ],
  "metadata": {
    "kernelspec": {
      "display_name": "Python 3.9.16 ('prapti')",
      "language": "python",
      "name": "python3"
    },
    "language_info": {
      "codemirror_mode": {
        "name": "ipython",
        "version": 3
      },
      "file_extension": ".py",
      "mimetype": "text/x-python",
      "name": "python",
      "nbconvert_exporter": "python",
      "pygments_lexer": "ipython3",
      "version": "3.9.16"
    },
    "vscode": {
      "interpreter": {
        "hash": "baa4332c57772fd986612e68e96f15dcf1fd7996ca3bd753bd1b115b0b0931fa"
      }
    },
    "colab": {
      "provenance": [],
      "include_colab_link": true
    },
    "widgets": {
      "application/vnd.jupyter.widget-state+json": {
        "0f101a7a6de444e2bdc40590c0e6e101": {
          "model_module": "@jupyter-widgets/controls",
          "model_name": "VBoxModel",
          "model_module_version": "1.5.0",
          "state": {
            "_dom_classes": [
              "widget-interact"
            ],
            "_model_module": "@jupyter-widgets/controls",
            "_model_module_version": "1.5.0",
            "_model_name": "VBoxModel",
            "_view_count": null,
            "_view_module": "@jupyter-widgets/controls",
            "_view_module_version": "1.5.0",
            "_view_name": "VBoxView",
            "box_style": "",
            "children": [
              "IPY_MODEL_40b839aaf1a74d05acb9531d4976c403",
              "IPY_MODEL_00e7e74b22104af8a7a07f17d66dee3d",
              "IPY_MODEL_ac8253df5e154af1ab0da425017e0ef0"
            ],
            "layout": "IPY_MODEL_0121afdb6e0745ae8dbb3811e8606b72"
          }
        },
        "40b839aaf1a74d05acb9531d4976c403": {
          "model_module": "@jupyter-widgets/controls",
          "model_name": "DropdownModel",
          "model_module_version": "1.5.0",
          "state": {
            "_dom_classes": [],
            "_model_module": "@jupyter-widgets/controls",
            "_model_module_version": "1.5.0",
            "_model_name": "DropdownModel",
            "_options_labels": [
              "X1",
              "X2",
              "X3",
              "X4",
              "X5",
              "X6",
              "X7",
              "X8",
              "Y1",
              "Y2"
            ],
            "_view_count": null,
            "_view_module": "@jupyter-widgets/controls",
            "_view_module_version": "1.5.0",
            "_view_name": "DropdownView",
            "description": "feature1",
            "description_tooltip": null,
            "disabled": false,
            "index": 0,
            "layout": "IPY_MODEL_056bf948d76d4b869f6f65ec7a0ae980",
            "style": "IPY_MODEL_1e0f57d1c5a34363ae577bfa48365c1e"
          }
        },
        "00e7e74b22104af8a7a07f17d66dee3d": {
          "model_module": "@jupyter-widgets/controls",
          "model_name": "DropdownModel",
          "model_module_version": "1.5.0",
          "state": {
            "_dom_classes": [],
            "_model_module": "@jupyter-widgets/controls",
            "_model_module_version": "1.5.0",
            "_model_name": "DropdownModel",
            "_options_labels": [
              "X1",
              "X2",
              "X3",
              "X4",
              "X5",
              "X6",
              "X7",
              "X8",
              "Y1",
              "Y2"
            ],
            "_view_count": null,
            "_view_module": "@jupyter-widgets/controls",
            "_view_module_version": "1.5.0",
            "_view_name": "DropdownView",
            "description": "feature2",
            "description_tooltip": null,
            "disabled": false,
            "index": 0,
            "layout": "IPY_MODEL_46dc2f26ebac40eba68751e2b5f4320f",
            "style": "IPY_MODEL_d312f374093a495493d11272bc347201"
          }
        },
        "ac8253df5e154af1ab0da425017e0ef0": {
          "model_module": "@jupyter-widgets/output",
          "model_name": "OutputModel",
          "model_module_version": "1.0.0",
          "state": {
            "_dom_classes": [],
            "_model_module": "@jupyter-widgets/output",
            "_model_module_version": "1.0.0",
            "_model_name": "OutputModel",
            "_view_count": null,
            "_view_module": "@jupyter-widgets/output",
            "_view_module_version": "1.0.0",
            "_view_name": "OutputView",
            "layout": "IPY_MODEL_e5ca9cadcfb64debab49c6895d2aff8d",
            "msg_id": "",
            "outputs": []
          }
        },
        "0121afdb6e0745ae8dbb3811e8606b72": {
          "model_module": "@jupyter-widgets/base",
          "model_name": "LayoutModel",
          "model_module_version": "1.2.0",
          "state": {
            "_model_module": "@jupyter-widgets/base",
            "_model_module_version": "1.2.0",
            "_model_name": "LayoutModel",
            "_view_count": null,
            "_view_module": "@jupyter-widgets/base",
            "_view_module_version": "1.2.0",
            "_view_name": "LayoutView",
            "align_content": null,
            "align_items": null,
            "align_self": null,
            "border": null,
            "bottom": null,
            "display": null,
            "flex": null,
            "flex_flow": null,
            "grid_area": null,
            "grid_auto_columns": null,
            "grid_auto_flow": null,
            "grid_auto_rows": null,
            "grid_column": null,
            "grid_gap": null,
            "grid_row": null,
            "grid_template_areas": null,
            "grid_template_columns": null,
            "grid_template_rows": null,
            "height": null,
            "justify_content": null,
            "justify_items": null,
            "left": null,
            "margin": null,
            "max_height": null,
            "max_width": null,
            "min_height": null,
            "min_width": null,
            "object_fit": null,
            "object_position": null,
            "order": null,
            "overflow": null,
            "overflow_x": null,
            "overflow_y": null,
            "padding": null,
            "right": null,
            "top": null,
            "visibility": null,
            "width": null
          }
        },
        "056bf948d76d4b869f6f65ec7a0ae980": {
          "model_module": "@jupyter-widgets/base",
          "model_name": "LayoutModel",
          "model_module_version": "1.2.0",
          "state": {
            "_model_module": "@jupyter-widgets/base",
            "_model_module_version": "1.2.0",
            "_model_name": "LayoutModel",
            "_view_count": null,
            "_view_module": "@jupyter-widgets/base",
            "_view_module_version": "1.2.0",
            "_view_name": "LayoutView",
            "align_content": null,
            "align_items": null,
            "align_self": null,
            "border": null,
            "bottom": null,
            "display": null,
            "flex": null,
            "flex_flow": null,
            "grid_area": null,
            "grid_auto_columns": null,
            "grid_auto_flow": null,
            "grid_auto_rows": null,
            "grid_column": null,
            "grid_gap": null,
            "grid_row": null,
            "grid_template_areas": null,
            "grid_template_columns": null,
            "grid_template_rows": null,
            "height": null,
            "justify_content": null,
            "justify_items": null,
            "left": null,
            "margin": null,
            "max_height": null,
            "max_width": null,
            "min_height": null,
            "min_width": null,
            "object_fit": null,
            "object_position": null,
            "order": null,
            "overflow": null,
            "overflow_x": null,
            "overflow_y": null,
            "padding": null,
            "right": null,
            "top": null,
            "visibility": null,
            "width": null
          }
        },
        "1e0f57d1c5a34363ae577bfa48365c1e": {
          "model_module": "@jupyter-widgets/controls",
          "model_name": "DescriptionStyleModel",
          "model_module_version": "1.5.0",
          "state": {
            "_model_module": "@jupyter-widgets/controls",
            "_model_module_version": "1.5.0",
            "_model_name": "DescriptionStyleModel",
            "_view_count": null,
            "_view_module": "@jupyter-widgets/base",
            "_view_module_version": "1.2.0",
            "_view_name": "StyleView",
            "description_width": ""
          }
        },
        "46dc2f26ebac40eba68751e2b5f4320f": {
          "model_module": "@jupyter-widgets/base",
          "model_name": "LayoutModel",
          "model_module_version": "1.2.0",
          "state": {
            "_model_module": "@jupyter-widgets/base",
            "_model_module_version": "1.2.0",
            "_model_name": "LayoutModel",
            "_view_count": null,
            "_view_module": "@jupyter-widgets/base",
            "_view_module_version": "1.2.0",
            "_view_name": "LayoutView",
            "align_content": null,
            "align_items": null,
            "align_self": null,
            "border": null,
            "bottom": null,
            "display": null,
            "flex": null,
            "flex_flow": null,
            "grid_area": null,
            "grid_auto_columns": null,
            "grid_auto_flow": null,
            "grid_auto_rows": null,
            "grid_column": null,
            "grid_gap": null,
            "grid_row": null,
            "grid_template_areas": null,
            "grid_template_columns": null,
            "grid_template_rows": null,
            "height": null,
            "justify_content": null,
            "justify_items": null,
            "left": null,
            "margin": null,
            "max_height": null,
            "max_width": null,
            "min_height": null,
            "min_width": null,
            "object_fit": null,
            "object_position": null,
            "order": null,
            "overflow": null,
            "overflow_x": null,
            "overflow_y": null,
            "padding": null,
            "right": null,
            "top": null,
            "visibility": null,
            "width": null
          }
        },
        "d312f374093a495493d11272bc347201": {
          "model_module": "@jupyter-widgets/controls",
          "model_name": "DescriptionStyleModel",
          "model_module_version": "1.5.0",
          "state": {
            "_model_module": "@jupyter-widgets/controls",
            "_model_module_version": "1.5.0",
            "_model_name": "DescriptionStyleModel",
            "_view_count": null,
            "_view_module": "@jupyter-widgets/base",
            "_view_module_version": "1.2.0",
            "_view_name": "StyleView",
            "description_width": ""
          }
        },
        "e5ca9cadcfb64debab49c6895d2aff8d": {
          "model_module": "@jupyter-widgets/base",
          "model_name": "LayoutModel",
          "model_module_version": "1.2.0",
          "state": {
            "_model_module": "@jupyter-widgets/base",
            "_model_module_version": "1.2.0",
            "_model_name": "LayoutModel",
            "_view_count": null,
            "_view_module": "@jupyter-widgets/base",
            "_view_module_version": "1.2.0",
            "_view_name": "LayoutView",
            "align_content": null,
            "align_items": null,
            "align_self": null,
            "border": null,
            "bottom": null,
            "display": null,
            "flex": null,
            "flex_flow": null,
            "grid_area": null,
            "grid_auto_columns": null,
            "grid_auto_flow": null,
            "grid_auto_rows": null,
            "grid_column": null,
            "grid_gap": null,
            "grid_row": null,
            "grid_template_areas": null,
            "grid_template_columns": null,
            "grid_template_rows": null,
            "height": null,
            "justify_content": null,
            "justify_items": null,
            "left": null,
            "margin": null,
            "max_height": null,
            "max_width": null,
            "min_height": null,
            "min_width": null,
            "object_fit": null,
            "object_position": null,
            "order": null,
            "overflow": null,
            "overflow_x": null,
            "overflow_y": null,
            "padding": null,
            "right": null,
            "top": null,
            "visibility": null,
            "width": null
          }
        },
        "10c00a82995b4983a45cfe18c342d577": {
          "model_module": "jupyter-matplotlib",
          "model_name": "MPLCanvasModel",
          "model_module_version": "^0.11",
          "state": {
            "_cursor": "pointer",
            "_data_url": "data:image/png;base64,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",
            "_dom_classes": [],
            "_figure_label": "Figure",
            "_image_mode": "full",
            "_message": "",
            "_model_module": "jupyter-matplotlib",
            "_model_module_version": "^0.11",
            "_model_name": "MPLCanvasModel",
            "_rubberband_height": 0,
            "_rubberband_width": 0,
            "_rubberband_x": 0,
            "_rubberband_y": 0,
            "_size": [
              576,
              288
            ],
            "_view_count": null,
            "_view_module": "jupyter-matplotlib",
            "_view_module_version": "^0.11",
            "_view_name": "MPLCanvasView",
            "capture_scroll": false,
            "footer_visible": true,
            "header_visible": true,
            "layout": "IPY_MODEL_24aa6399560f4d2d82b446f74c8c5287",
            "pan_zoom_throttle": 33,
            "resizable": true,
            "toolbar": "IPY_MODEL_e27266b4130540a4adc2f5e12d941e2e",
            "toolbar_position": "left",
            "toolbar_visible": "fade-in-fade-out"
          }
        }
      }
    }
  },
  "nbformat": 4,
  "nbformat_minor": 5
}